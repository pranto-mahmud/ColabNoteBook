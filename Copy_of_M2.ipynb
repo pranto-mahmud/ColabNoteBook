{
  "nbformat": 4,
  "nbformat_minor": 0,
  "metadata": {
    "colab": {
      "provenance": [],
      "include_colab_link": true
    },
    "kernelspec": {
      "name": "python3",
      "display_name": "Python 3"
    },
    "language_info": {
      "name": "python"
    }
  },
  "cells": [
    {
      "cell_type": "markdown",
      "metadata": {
        "id": "view-in-github",
        "colab_type": "text"
      },
      "source": [
        "<a href=\"https://colab.research.google.com/github/pranto-mahmud/ColabNoteBook/blob/main/Copy_of_M2.ipynb\" target=\"_parent\"><img src=\"https://colab.research.google.com/assets/colab-badge.svg\" alt=\"Open In Colab\"/></a>"
      ]
    },
    {
      "cell_type": "markdown",
      "source": [
        "https://www.python.org/\n"
      ],
      "metadata": {
        "id": "OMX8pOgIy1Ro"
      }
    },
    {
      "cell_type": "code",
      "source": [
        "print (\"This is a crash course to learn AI and ML\")"
      ],
      "metadata": {
        "id": "FNNxFi219fEC",
        "colab": {
          "base_uri": "https://localhost:8080/"
        },
        "outputId": "c48ba6b5-e798-476e-e5af-f76883d69532"
      },
      "execution_count": null,
      "outputs": [
        {
          "output_type": "stream",
          "name": "stdout",
          "text": [
            "This is a crash course to learn AI and ML\n"
          ]
        }
      ]
    },
    {
      "cell_type": "code",
      "source": [
        "name = \"Bengal Tiger\"\n",
        "age = 23\n",
        "print (\"%s is %d years old.\" % (name, age))\n",
        "\n",
        "name = input(\"Enter your name: \")\n",
        "\n",
        "age = int(input(\"Enter your age: \"))\n",
        "print(f'{name} is {age} years old')\n"
      ],
      "metadata": {
        "colab": {
          "base_uri": "https://localhost:8080/"
        },
        "id": "_ATAWwOJyGgl",
        "outputId": "c5b400e7-ff34-4ebc-8f98-c1ec27c90e9d"
      },
      "execution_count": null,
      "outputs": [
        {
          "output_type": "stream",
          "name": "stdout",
          "text": [
            "Bengal Tiger is 23 years old.\n",
            "Enter your name: Syed Shahanur Mahmud Pranto\n",
            "Enter your age: 22\n",
            "Syed Shahanur Mahmud Pranto is 22 years old\n"
          ]
        }
      ]
    },
    {
      "cell_type": "code",
      "source": [
        "# Indexing\n",
        "x = [3, \"hello\", 1.2]\n",
        "print (\"x[0]: \", x[0])\n",
        "print (\"x[1]: \", x[1])\n",
        "print (\"x[-1]: \", x[-1]) # the last item\n",
        "print (\"x[-2]: \", x[-2]) # the second to last item\n",
        "\n",
        "# Indexing beyond length\n",
        "print (x[:100])\n",
        "print (len(x[:100]))"
      ],
      "metadata": {
        "colab": {
          "base_uri": "https://localhost:8080/"
        },
        "id": "Gk9x8Mtw0N88",
        "outputId": "5326e17c-4e99-441b-f9ea-f80ae9fdc6a7"
      },
      "execution_count": null,
      "outputs": [
        {
          "output_type": "stream",
          "name": "stdout",
          "text": [
            "x[0]:  3\n",
            "x[1]:  hello\n",
            "x[-1]:  1.2\n",
            "x[-2]:  hello\n",
            "[3, 'hello', 1.2]\n",
            "3\n"
          ]
        }
      ]
    },
    {
      "cell_type": "code",
      "source": [
        "# Slicing\n",
        "print (\"x[:]: \", x[:]) # all indices\n",
        "print (\"x[1:]: \", x[1:]) # index 1 to the end of the list\n",
        "print (\"x[1:2]: \", x[1:2]) # index 1 to index 2 (not including index 2)\n",
        "print (\"x[:-1]: \", x[:-1]) # index 0 to last index (not including last index)"
      ],
      "metadata": {
        "id": "GQEG4PQ90TiG",
        "colab": {
          "base_uri": "https://localhost:8080/"
        },
        "outputId": "be6ea98d-2b82-42f3-ade8-82b9bf50bce8"
      },
      "execution_count": null,
      "outputs": [
        {
          "output_type": "stream",
          "name": "stdout",
          "text": [
            "x[:]:  [3, 'hello', 1.2]\n",
            "x[1:]:  ['hello', 1.2]\n",
            "x[1:2]:  ['hello']\n",
            "x[:-1]:  [3, 'hello']\n"
          ]
        }
      ]
    },
    {
      "cell_type": "code",
      "source": [
        "# String operations\n",
        "hello = \"Hello\"\n",
        "world = \"World\"\n",
        "\n",
        "helloworld = hello + \" \" + world\n",
        "print(helloworld)\n",
        "\n",
        "# String formatting\n",
        "name = \"Alice\"\n",
        "age = 30\n",
        "formatted_string = f\"{name} is {age} years old.\"\n",
        "print(formatted_string)\n",
        "print(type(formatted_string))"
      ],
      "metadata": {
        "colab": {
          "base_uri": "https://localhost:8080/"
        },
        "id": "aj8_0mr90aWM",
        "outputId": "40001bac-55cc-4246-dd11-2eed96834d69"
      },
      "execution_count": null,
      "outputs": [
        {
          "output_type": "stream",
          "name": "stdout",
          "text": [
            "Hello World\n",
            "Alice is 30 years old.\n",
            "<class 'str'>\n"
          ]
        }
      ]
    },
    {
      "cell_type": "code",
      "source": [
        "#String operations again\n",
        "text = \"Hello, world!\"\n",
        "\n",
        "# Length of the string\n",
        "print(len(text))  # Output: 13\n",
        "\n",
        "# Convert to uppercase\n",
        "uppercase_text = text.upper()\n",
        "print(uppercase_text)  # Output: HELLO, WORLD!\n",
        "\n",
        "# Convert to lowercase\n",
        "lowercase_text = text.lower()\n",
        "print(lowercase_text)  # Output: hello, world!\n",
        "\n",
        "# Check if the string starts with a specific substring\n",
        "starts_with_hello = text.startswith(\"Hello\")\n",
        "print(starts_with_hello)  # Output: True\n",
        "\n",
        "# Check if the string ends with a specific substring\n",
        "ends_with_world = text.endswith(\"world!\")\n",
        "print(ends_with_world)  # Output: True\n",
        "\n",
        "# Find the index of a substring\n",
        "index_of_comma = text.find(\",\")\n",
        "print(index_of_comma)  # Output: 5\n",
        "\n",
        "# Replace a substring with another\n",
        "new_text = text.replace(\"world\", \"Python\")\n",
        "print(new_text)  # Output: Hello, Python!\n",
        "\n",
        "# Split the string into a list of substrings\n",
        "words = text.split(\" \")\n",
        "print(words)  # Output: ['Hello,', 'world!']\n",
        "\n",
        "# Join a list of substrings into a string\n",
        "joined_text = \" \".join(words)\n",
        "print(joined_text)  # Output: Hello,-world!\n",
        "\n",
        "# Strip whitespace from the beginning and end of the string\n",
        "stripped_text = text.strip()\n",
        "print(stripped_text)  # Output: Hello, world!\n"
      ],
      "metadata": {
        "id": "DOHvKAeC0wKJ",
        "colab": {
          "base_uri": "https://localhost:8080/"
        },
        "outputId": "cbc265f1-db32-4f73-e8a9-1eebc27587fe"
      },
      "execution_count": null,
      "outputs": [
        {
          "output_type": "stream",
          "name": "stdout",
          "text": [
            "13\n",
            "HELLO, WORLD!\n",
            "hello, world!\n",
            "True\n",
            "True\n",
            "5\n",
            "Hello, Python!\n",
            "['Hello,', 'world!']\n",
            "Hello, world!\n",
            "Hello, world!\n"
          ]
        }
      ]
    },
    {
      "cell_type": "code",
      "source": [
        "# Creating a list\n",
        "my_list = [1, 2, 3, \"apple\", \"banana\"]\n",
        "\n",
        "# Accessing elements\n",
        "print(my_list[0])  # Output: 1\n",
        "print(my_list[3])  # Output: \"apple\"\n",
        "\n",
        "# Modifying elements\n",
        "my_list[1] = 5\n",
        "print(my_list)  # Output: [1, 5, 3, \"apple\", \"banana\"]\n",
        "\n",
        "# Adding elements\n",
        "my_list.append(\"orange\")\n",
        "print(my_list)  # Output: [1, 5, 3, \"apple\", \"banana\", \"orange\"]\n",
        "\n",
        "# Removing elements\n",
        "my_list.remove(\"apple\")\n",
        "print(my_list)  # Output: [1, 5, 3, \"banana\", \"orange\"]\n",
        "\n",
        "# Slicing\n",
        "sub_list = my_list[1:4]\n",
        "print(sub_list)  # Output: [5, 3, \"banana\"]\n",
        "\n",
        "# Iterating over a list\n",
        "for item in my_list:\n",
        "  print(item)\n",
        "\n",
        "# Checking if an element is in a list\n",
        "if \"banana\" in my_list:\n",
        "  print(\"Banana is in the list\")\n",
        "\n",
        "# Length of a list\n",
        "print(len(my_list))  # Output: 5\n"
      ],
      "metadata": {
        "id": "lfwfsg8A1HLX",
        "colab": {
          "base_uri": "https://localhost:8080/"
        },
        "outputId": "d82b5703-f56d-4bb9-c650-92db80769add"
      },
      "execution_count": null,
      "outputs": [
        {
          "output_type": "stream",
          "name": "stdout",
          "text": [
            "1\n",
            "apple\n",
            "[1, 5, 3, 'apple', 'banana']\n",
            "[1, 5, 3, 'apple', 'banana', 'orange']\n",
            "[1, 5, 3, 'banana', 'orange']\n",
            "[5, 3, 'banana']\n",
            "1\n",
            "5\n",
            "3\n",
            "banana\n",
            "orange\n",
            "Banana is in the list\n",
            "5\n"
          ]
        }
      ]
    },
    {
      "cell_type": "code",
      "source": [
        "# Creating a tuple\n",
        "my_tuple = (1, 2, 3, \"apple\", \"banana\")\n",
        "\n",
        "# Accessing elements\n",
        "print(my_tuple[0])  # Output: 1\n",
        "print(my_tuple[3])  # Output: \"apple\"\n",
        "\n",
        "# Tuples are immutable, so you cannot modify elements\n",
        "# my_tuple[1] = 5  # This will raise an error\n",
        "\n",
        "# Slicing\n",
        "sub_tuple = my_tuple[1:4]\n",
        "print(sub_tuple)  # Output: (2, 3, \"apple\")\n",
        "\n",
        "# Iterating over a tuple\n",
        "for item in my_tuple:\n",
        "  print(item)\n",
        "\n",
        "# Checking if an element is in a tuple\n",
        "if \"banana\" in my_tuple:\n",
        "  print(\"Banana is in the tuple\")\n",
        "\n",
        "# Length of a tuple\n",
        "print(len(my_tuple))  # Output: 5\n"
      ],
      "metadata": {
        "id": "dy0SWej61Ph-",
        "colab": {
          "base_uri": "https://localhost:8080/"
        },
        "outputId": "506d26ed-5b4f-4409-c7b6-e3c6a60243c2"
      },
      "execution_count": null,
      "outputs": [
        {
          "output_type": "stream",
          "name": "stdout",
          "text": [
            "1\n",
            "apple\n",
            "(2, 3, 'apple')\n",
            "1\n",
            "2\n",
            "3\n",
            "apple\n",
            "banana\n",
            "Banana is in the tuple\n",
            "5\n"
          ]
        }
      ]
    },
    {
      "cell_type": "code",
      "source": [
        "# Tuples are immutable, meaning their elements cannot be changed once created.\n",
        "# This includes deleting elements.\n",
        "\n",
        "# If you need to remove elements, you can convert the tuple to a list,\n",
        "# modify the list, and then convert it back to a tuple.\n",
        "\n",
        "my_tuple = (1, 2, 3, \"apple\", \"banana\")\n",
        "\n",
        "# Convert tuple to list\n",
        "my_list = list(my_tuple)\n",
        "\n",
        "# Remove element from list\n",
        "my_list.remove(\"apple\")\n",
        "\n",
        "# Convert list back to tuple\n",
        "new_tuple = tuple(my_list)\n",
        "\n",
        "print(new_tuple)  # Output: (1, 2, 3, \"banana\")\n"
      ],
      "metadata": {
        "id": "_lLMYxR11a-3",
        "colab": {
          "base_uri": "https://localhost:8080/"
        },
        "outputId": "840ddbd7-1ff8-4a89-b057-43042c9fbf26"
      },
      "execution_count": null,
      "outputs": [
        {
          "output_type": "stream",
          "name": "stdout",
          "text": [
            "(1, 2, 3, 'banana')\n"
          ]
        }
      ]
    },
    {
      "cell_type": "code",
      "source": [
        "# Creating a set\n",
        "my_set = {1, 2, 3, \"apple\", \"banana\"}\n",
        "\n",
        "# Adding elements\n",
        "my_set.add(\"orange\")\n",
        "print(my_set)  # Output: {1, 2, 3, \"apple\", \"banana\", \"orange\"}\n",
        "\n",
        "# Removing elements\n",
        "my_set.remove(\"apple\")\n",
        "print(my_set)  # Output: {1, 2, 3, \"banana\", \"orange\"}\n",
        "\n",
        "# Iterating over a set\n",
        "for item in my_set:\n",
        "  print(item)\n",
        "\n",
        "# Checking if an element is in a set\n",
        "if \"banana\" in my_set:\n",
        "  print(\"Banana is in the set\")\n",
        "\n",
        "# Length of a set\n",
        "print(len(my_set))  # Output: 5"
      ],
      "metadata": {
        "id": "HR6I3hS21jcc",
        "colab": {
          "base_uri": "https://localhost:8080/"
        },
        "outputId": "62c9dfe6-7409-4a34-800a-b77b506ddd5b"
      },
      "execution_count": null,
      "outputs": [
        {
          "output_type": "stream",
          "name": "stdout",
          "text": [
            "{1, 2, 3, 'apple', 'banana', 'orange'}\n",
            "{1, 2, 3, 'banana', 'orange'}\n",
            "1\n",
            "2\n",
            "3\n",
            "banana\n",
            "orange\n",
            "Banana is in the set\n",
            "5\n"
          ]
        }
      ]
    },
    {
      "cell_type": "code",
      "source": [
        "# Creating a dictionary to store student information\n",
        "student = {\n",
        "    \"name\": \"Alice\",\n",
        "    \"age\": 20,\n",
        "    \"major\": \"Computer Science\",\n",
        "    \"grades\": {\"math\": 90, \"science\": 85, \"english\": 92}\n",
        "}\n",
        "\n",
        "# Accessing values in the dictionary\n",
        "print(\"Student Name:\", student[\"name\"])\n",
        "print(\"Student Age:\", student[\"age\"])\n",
        "print(\"Student Major:\", student[\"major\"])\n",
        "\n",
        "# Accessing values within the nested \"grades\" dictionary\n",
        "print(\"Math Grade:\", student[\"grades\"][\"math\"])\n",
        "print(\"Science Grade:\", student[\"grades\"][\"science\"])\n",
        "\n",
        "# Modifying values in the dictionary\n",
        "student[\"age\"] = 21\n",
        "student[\"grades\"][\"english\"] = 95\n",
        "\n",
        "# Adding a new key-value pair to the dictionary\n",
        "student[\"city\"] = \"New York\"\n",
        "\n",
        "# Iterating through the dictionary and printing key-value pairs\n",
        "print(\"\\nStudent Information:\")\n",
        "for key, value in student.items():\n",
        "    print(f\"{key} : {value}\")\n",
        "    print(key,\"-\",value)\n",
        "\n",
        "# Checking if a key exists in the dictionary\n",
        "if \"address\" in student:\n",
        "    print(\"Student Address:\", student[\"address\"])\n",
        "else:\n",
        "    print(\"Address information not available.\")\n",
        "\n",
        "# Removing a key-value pair from the dictionary\n",
        "del student[\"city\"]\n",
        "\n",
        "# Printing the updated dictionary\n",
        "print(\"\\nUpdated Student Information:\")\n",
        "for key, value in student.items():\n",
        "    print(f\"{key} : {value}\")"
      ],
      "metadata": {
        "id": "oG39h8wh13el",
        "colab": {
          "base_uri": "https://localhost:8080/"
        },
        "outputId": "6f7e41c8-8458-4e2b-bc46-1c0dda78c4ac"
      },
      "execution_count": null,
      "outputs": [
        {
          "output_type": "stream",
          "name": "stdout",
          "text": [
            "Student Name: Alice\n",
            "Student Age: 20\n",
            "Student Major: Computer Science\n",
            "Math Grade: 90\n",
            "Science Grade: 85\n",
            "\n",
            "Student Information:\n",
            "name : Alice\n",
            "name - Alice\n",
            "age : 21\n",
            "age - 21\n",
            "major : Computer Science\n",
            "major - Computer Science\n",
            "grades : {'math': 90, 'science': 85, 'english': 95}\n",
            "grades - {'math': 90, 'science': 85, 'english': 95}\n",
            "city : New York\n",
            "city - New York\n",
            "Address information not available.\n",
            "\n",
            "Updated Student Information:\n",
            "name : Alice\n",
            "age : 21\n",
            "major : Computer Science\n",
            "grades : {'math': 90, 'science': 85, 'english': 95}\n"
          ]
        }
      ]
    },
    {
      "cell_type": "code",
      "source": [
        "# Example 1: Squaring numbers\n",
        "numbers = [1, 2, 3, 4, 5]\n",
        "squared_numbers = [x**2 for x in numbers]\n",
        "print(squared_numbers)  # Output: [1, 4, 9, 16, 25]\n",
        "\n",
        "# Example 2: Filtering even numbers\n",
        "even_numbers = [x for x in numbers if x % 2 == 0]\n",
        "print(even_numbers)  # Output: [2, 4]\n",
        "\n",
        "# Example 3: Creating a list of tuples\n",
        "names = [\"Alice\", \"Bob\", \"Charlie\"]\n",
        "ages = [25, 30, 28]\n",
        "name_age_pairs = [(name, age) for name, age in zip(names, ages)]\n",
        "print(name_age_pairs)  # Output: [('Alice', 25), ('Bob', 30), ('Charlie', 28)]"
      ],
      "metadata": {
        "colab": {
          "base_uri": "https://localhost:8080/"
        },
        "id": "GCarQXoN8lvh",
        "outputId": "48544c9d-59a1-40ee-bb96-8092c8989c72"
      },
      "execution_count": null,
      "outputs": [
        {
          "output_type": "stream",
          "name": "stdout",
          "text": [
            "[1, 4, 9, 16, 25]\n",
            "[2, 4]\n",
            "[('Alice', 25), ('Bob', 30), ('Charlie', 28)]\n"
          ]
        }
      ]
    },
    {
      "cell_type": "code",
      "source": [
        "\n",
        "def solve_quadratic_equation(a, b, c):\n",
        "  \"\"\"Solves a quadratic equation of the form ax^2 + bx + c = 0.\"\"\"\n",
        "\n",
        "  delta = (b**2) - 4*(a*c)\n",
        "\n",
        "  if delta < 0:\n",
        "    return \"No real roots\"\n",
        "  elif delta == 0:\n",
        "    x = (-b + delta**0.5) / (2*a)\n",
        "    return f\"One real root: x = {x}\"\n",
        "  else:\n",
        "    x1 = (-b + delta**0.5) / (2*a)\n",
        "    x2 = (-b - delta**0.5) / (2*a)\n",
        "    return f\"Two real roots: x1 = {x1}, x2 = {x2}\"\n"
      ],
      "metadata": {
        "id": "BzX710pY8mkd"
      },
      "execution_count": null,
      "outputs": []
    },
    {
      "cell_type": "code",
      "source": [
        "x=int(input(\"Enter the value of a: \"))\n",
        "y=int(input(\"Enter the value of b: \"))\n",
        "z=int(input(\"Enter the value of c: \"))\n",
        "solve_quadratic_equation(x, y, z)"
      ],
      "metadata": {
        "colab": {
          "base_uri": "https://localhost:8080/",
          "height": 88
        },
        "id": "PZwny9OT9H66",
        "outputId": "8f98892e-8a41-495d-9f7a-6eda13a5aebb"
      },
      "execution_count": null,
      "outputs": [
        {
          "name": "stdout",
          "output_type": "stream",
          "text": [
            "Enter the value of a: 2\n",
            "Enter the value of b: -5\n",
            "Enter the value of c: 2\n"
          ]
        },
        {
          "output_type": "execute_result",
          "data": {
            "text/plain": [
              "'Two real roots: x1 = 2.0, x2 = 0.5'"
            ],
            "application/vnd.google.colaboratory.intrinsic+json": {
              "type": "string"
            }
          },
          "metadata": {},
          "execution_count": 34
        }
      ]
    },
    {
      "cell_type": "code",
      "source": [
        "# Example of using the pandas Series object\n",
        "\n",
        "import pandas as pd\n",
        "\n",
        "# Creating a Series from a list\n",
        "data = [10, 20, 30, 40, 50]\n",
        "series = pd.Series(data)\n",
        "print(series)\n",
        "\n",
        "# Creating a Series with custom index labels\n",
        "index = ['a', 'b', 'c', 'd', 'e']\n",
        "series_with_index = pd.Series(data, index=index)\n",
        "print(series_with_index)"
      ],
      "metadata": {
        "colab": {
          "base_uri": "https://localhost:8080/"
        },
        "id": "s9TADbfkORJH",
        "outputId": "37098f3b-d66b-4543-ca9a-3925d92d4298"
      },
      "execution_count": null,
      "outputs": [
        {
          "output_type": "stream",
          "name": "stdout",
          "text": [
            "0    10\n",
            "1    20\n",
            "2    30\n",
            "3    40\n",
            "4    50\n",
            "dtype: int64\n",
            "a    10\n",
            "b    20\n",
            "c    30\n",
            "d    40\n",
            "e    50\n",
            "dtype: int64\n"
          ]
        }
      ]
    },
    {
      "cell_type": "code",
      "source": [
        "# Accessing elements in a Series\n",
        "print(series[0])  # Accessing the first element\n",
        "print(series_with_index['b'])  # Accessing the element with index label 'b'\n",
        "\n",
        "# Performing operations on a Series\n",
        "print(series * 2)  # Multiplying each element by 2\n",
        "print(series_with_index + 5)  # Adding 5 to each element"
      ],
      "metadata": {
        "colab": {
          "base_uri": "https://localhost:8080/"
        },
        "id": "aFoI8gxaPA14",
        "outputId": "9bbcb53c-54ef-41b4-946a-0e102777fdbb"
      },
      "execution_count": null,
      "outputs": [
        {
          "output_type": "stream",
          "name": "stdout",
          "text": [
            "10\n",
            "20\n",
            "0     20\n",
            "1     40\n",
            "2     60\n",
            "3     80\n",
            "4    100\n",
            "dtype: int64\n",
            "a    15\n",
            "b    25\n",
            "c    35\n",
            "d    45\n",
            "e    55\n",
            "dtype: int64\n"
          ]
        }
      ]
    },
    {
      "cell_type": "code",
      "source": [
        "# Filtering a Series\n",
        "print(series[series > 30])  # Selecting elements greater than 30"
      ],
      "metadata": {
        "colab": {
          "base_uri": "https://localhost:8080/"
        },
        "id": "oZ31XLheQAHu",
        "outputId": "f7a71b17-00a3-464b-dfde-dc0983d43a92"
      },
      "execution_count": null,
      "outputs": [
        {
          "output_type": "stream",
          "name": "stdout",
          "text": [
            "3    40\n",
            "4    50\n",
            "dtype: int64\n"
          ]
        }
      ]
    },
    {
      "cell_type": "code",
      "source": [
        "# Statistical operations on a Series\n",
        "print(series.mean())  # Calculating the mean of the Series\n",
        "print(series.std())  # Calculating the standard deviation of the Series"
      ],
      "metadata": {
        "colab": {
          "base_uri": "https://localhost:8080/"
        },
        "id": "OZMPmVjGQBq6",
        "outputId": "aa091244-69b2-4100-a808-f1e9091d768e"
      },
      "execution_count": null,
      "outputs": [
        {
          "output_type": "stream",
          "name": "stdout",
          "text": [
            "30.0\n",
            "15.811388300841896\n"
          ]
        }
      ]
    },
    {
      "cell_type": "code",
      "source": [
        "# Other useful methods and attributes\n",
        "print(series.index)  # Accessing the index labels\n",
        "print(series.values)  # Accessing the values as a NumPy array\n",
        "print(series.describe())  # Generating descriptive statistics of the Series"
      ],
      "metadata": {
        "colab": {
          "base_uri": "https://localhost:8080/"
        },
        "id": "T7__vIvIPf-m",
        "outputId": "cbea572b-702e-40c8-c119-6bf3e7a1e912"
      },
      "execution_count": null,
      "outputs": [
        {
          "output_type": "stream",
          "name": "stdout",
          "text": [
            "RangeIndex(start=0, stop=5, step=1)\n",
            "[10 20 30 40 50]\n",
            "count     5.000000\n",
            "mean     30.000000\n",
            "std      15.811388\n",
            "min      10.000000\n",
            "25%      20.000000\n",
            "50%      30.000000\n",
            "75%      40.000000\n",
            "max      50.000000\n",
            "dtype: float64\n"
          ]
        }
      ]
    },
    {
      "cell_type": "markdown",
      "source": [
        "Starting Pandas data analysis"
      ],
      "metadata": {
        "id": "1tsoIrYcQl7p"
      }
    },
    {
      "cell_type": "code",
      "source": [
        "# Sample data (replace with your own data source)\n",
        "data = {\n",
        "    'Name': ['Alice', 'Bob', 'Charlie', 'David'],\n",
        "    'Age': [25, 30, 28, 35],\n",
        "    'City': ['New York', 'Los Angeles', 'Chicago', 'San Francisco']\n",
        "}\n",
        "\n",
        "# Create a Pandas DataFrame\n",
        "df = pd.DataFrame(data)\n",
        "\n",
        "# Display the DataFrame\n",
        "print(df)\n",
        "\n",
        "# Basic statistics\n",
        "print(\"\\nSummary Statistics:\")\n",
        "print(df.describe())\n",
        "\n",
        "# Accessing specific columns\n",
        "print(\"\\nAges:\")\n",
        "print(df['Age'])\n",
        "\n",
        "# Filtering data\n",
        "print(\"\\nPeople older than 30:\")\n",
        "print(df[df['Age'] > 30])\n",
        "\n",
        "# Grouping data\n",
        "print(\"\\nAverage age by city:\")\n",
        "print(df.groupby('City')['Age'].mean())\n",
        "\n",
        "# Sorting data\n",
        "print(\"\\nSorted by age:\")\n",
        "print(df.sort_values('Age'))\n"
      ],
      "metadata": {
        "colab": {
          "base_uri": "https://localhost:8080/"
        },
        "id": "S3MagvqjA4cq",
        "outputId": "30b79aa9-1583-437a-a0ce-06fdf1f8c136"
      },
      "execution_count": null,
      "outputs": [
        {
          "output_type": "stream",
          "name": "stdout",
          "text": [
            "      Name  Age           City\n",
            "0    Alice   25       New York\n",
            "1      Bob   30    Los Angeles\n",
            "2  Charlie   28        Chicago\n",
            "3    David   35  San Francisco\n",
            "\n",
            "Summary Statistics:\n",
            "             Age\n",
            "count   4.000000\n",
            "mean   29.500000\n",
            "std     4.203173\n",
            "min    25.000000\n",
            "25%    27.250000\n",
            "50%    29.000000\n",
            "75%    31.250000\n",
            "max    35.000000\n",
            "\n",
            "Ages:\n",
            "0    25\n",
            "1    30\n",
            "2    28\n",
            "3    35\n",
            "Name: Age, dtype: int64\n",
            "\n",
            "People older than 30:\n",
            "    Name  Age           City\n",
            "3  David   35  San Francisco\n",
            "\n",
            "Average age by city:\n",
            "City\n",
            "Chicago          28.0\n",
            "Los Angeles      30.0\n",
            "New York         25.0\n",
            "San Francisco    35.0\n",
            "Name: Age, dtype: float64\n",
            "\n",
            "Sorted by age:\n",
            "      Name  Age           City\n",
            "0    Alice   25       New York\n",
            "2  Charlie   28        Chicago\n",
            "1      Bob   30    Los Angeles\n",
            "3    David   35  San Francisco\n"
          ]
        }
      ]
    },
    {
      "cell_type": "markdown",
      "source": [
        "Data analysis with a dataset using Pandas"
      ],
      "metadata": {
        "id": "b8Giz1RWUPnI"
      }
    },
    {
      "cell_type": "code",
      "source": [
        "import pandas as pd\n",
        "\n",
        "#Series: one-dimensional array\n",
        "#Data Frame: a type of a relation that has both rows and columns\n",
        "\n",
        "df = pd.read_csv(r'/content/weather.csv')\n",
        "print(type(df))\n",
        "print(df)"
      ],
      "metadata": {
        "id": "-Clfbf7EUYuK",
        "colab": {
          "base_uri": "https://localhost:8080/"
        },
        "outputId": "b8f31f12-d507-4bd2-f147-4941638a1746"
      },
      "execution_count": null,
      "outputs": [
        {
          "output_type": "stream",
          "name": "stdout",
          "text": [
            "<class 'pandas.core.frame.DataFrame'>\n",
            "     outlook   temperature   humidity   windy  play\n",
            "0      sunny            85         85   False    no\n",
            "1      sunny            80         90    True    no\n",
            "2   overcast            83         86   False   yes\n",
            "3      rainy            70         96   False   yes\n",
            "4      rainy            68         80   False   yes\n",
            "5      rainy            65         70    True    no\n",
            "6   overcast            64         65    True   yes\n",
            "7      sunny            72         95   False    no\n",
            "8      sunny            69         70   False   yes\n",
            "9      rainy            75         80   False   yes\n",
            "10     sunny            75         70    True   yes\n",
            "11  overcast            72         90    True   yes\n",
            "12  overcast            81         75   False   yes\n",
            "13     rainy            71         91    True    no\n",
            "14     rainy           100         70    True    no\n",
            "15     sunny            45         70    True    no\n"
          ]
        }
      ]
    },
    {
      "cell_type": "code",
      "source": [
        "# first 5 records\n",
        "print(df.head())\n",
        "\n",
        "# last 5 records\n",
        "print(df.tail())\n",
        "\n",
        "# description of the dataset\n",
        "print(df.describe())\n",
        "\n",
        "# shape of the dataset\n",
        "print(df.shape)\n",
        "\n",
        "# data types of each column\n",
        "print(df.dtypes)"
      ],
      "metadata": {
        "id": "qUKgdPmKUV2v",
        "colab": {
          "base_uri": "https://localhost:8080/"
        },
        "outputId": "e307ce0d-1bd5-43a0-99af-284ddf8fa892"
      },
      "execution_count": null,
      "outputs": [
        {
          "output_type": "stream",
          "name": "stdout",
          "text": [
            "    outlook   temperature   humidity   windy  play\n",
            "0     sunny            85         85   False    no\n",
            "1     sunny            80         90    True    no\n",
            "2  overcast            83         86   False   yes\n",
            "3     rainy            70         96   False   yes\n",
            "4     rainy            68         80   False   yes\n",
            "     outlook   temperature   humidity   windy  play\n",
            "11  overcast            72         90    True   yes\n",
            "12  overcast            81         75   False   yes\n",
            "13     rainy            71         91    True    no\n",
            "14     rainy           100         70    True    no\n",
            "15     sunny            45         70    True    no\n",
            "       temperature  humidity\n",
            "count    16.000000  16.00000\n",
            "mean     73.437500  80.18750\n",
            "std      11.764176  10.36802\n",
            "min      45.000000  65.00000\n",
            "25%      68.750000  70.00000\n",
            "50%      72.000000  80.00000\n",
            "75%      80.250000  90.00000\n",
            "max     100.000000  96.00000\n",
            "(16, 5)\n",
            "outlook         object\n",
            " temperature     int64\n",
            " humidity        int64\n",
            " windy            bool\n",
            " play           object\n",
            "dtype: object\n"
          ]
        }
      ]
    },
    {
      "cell_type": "code",
      "source": [
        "df.columns = ['outview','temp','humidity','wind','play']\n",
        "print(df)\n",
        "# Series\n",
        "t = df['temp']\n",
        "print(type(t))\n",
        "print(t)\n",
        "\n",
        "\n",
        "sum = 0\n",
        "for value in t:\n",
        "    sum+=value\n",
        "print(sum)\n",
        "\n",
        "df1 = df[['temp','humidity']]\n",
        "print(df1)\n",
        "\n",
        "df3 = df.iloc[0:10,[1,2]]\n",
        "print(df3)\n",
        "\n",
        "# for all odd-numbered index, display outlook, temperature, and windy column values"
      ],
      "metadata": {
        "id": "6K9uWKUeUxJe",
        "colab": {
          "base_uri": "https://localhost:8080/"
        },
        "outputId": "9de471ff-8cf4-4b0b-9bc6-31ee0cf74aeb"
      },
      "execution_count": null,
      "outputs": [
        {
          "output_type": "stream",
          "name": "stdout",
          "text": [
            "     outview  temp  humidity   wind play\n",
            "0      sunny    85        85  False   no\n",
            "1      sunny    80        90   True   no\n",
            "2   overcast    83        86  False  yes\n",
            "3      rainy    70        96  False  yes\n",
            "4      rainy    68        80  False  yes\n",
            "5      rainy    65        70   True   no\n",
            "6   overcast    64        65   True  yes\n",
            "7      sunny    72        95  False   no\n",
            "8      sunny    69        70  False  yes\n",
            "9      rainy    75        80  False  yes\n",
            "10     sunny    75        70   True  yes\n",
            "11  overcast    72        90   True  yes\n",
            "12  overcast    81        75  False  yes\n",
            "13     rainy    71        91   True   no\n",
            "14     rainy   100        70   True   no\n",
            "15     sunny    45        70   True   no\n",
            "<class 'pandas.core.series.Series'>\n",
            "0      85\n",
            "1      80\n",
            "2      83\n",
            "3      70\n",
            "4      68\n",
            "5      65\n",
            "6      64\n",
            "7      72\n",
            "8      69\n",
            "9      75\n",
            "10     75\n",
            "11     72\n",
            "12     81\n",
            "13     71\n",
            "14    100\n",
            "15     45\n",
            "Name: temp, dtype: int64\n",
            "1175\n",
            "    temp  humidity\n",
            "0     85        85\n",
            "1     80        90\n",
            "2     83        86\n",
            "3     70        96\n",
            "4     68        80\n",
            "5     65        70\n",
            "6     64        65\n",
            "7     72        95\n",
            "8     69        70\n",
            "9     75        80\n",
            "10    75        70\n",
            "11    72        90\n",
            "12    81        75\n",
            "13    71        91\n",
            "14   100        70\n",
            "15    45        70\n",
            "   temp  humidity\n",
            "0    85        85\n",
            "1    80        90\n",
            "2    83        86\n",
            "3    70        96\n",
            "4    68        80\n",
            "5    65        70\n",
            "6    64        65\n",
            "7    72        95\n",
            "8    69        70\n",
            "9    75        80\n"
          ]
        }
      ]
    },
    {
      "cell_type": "code",
      "source": [
        "df4 = df.iloc[1::2,[0,1,3]]\n",
        "print(df4)\n",
        "\n",
        "df4 = df.loc[1:len(df)-1:2,['outview','temp','wind']]\n",
        "print(df4)\n",
        "\n",
        "# all statistical measures over temperature column\n",
        "temperature = df[['temp']]\n",
        "\n",
        "print(\"Mean: \" , temperature.mean())\n",
        "print(\"Standard Deviation: \", temperature.std())\n",
        "print(\"Variance: \", temperature.var())\n",
        "print(\"Lower Quartile: \" , temperature.quantile(0.25))\n",
        "print(\"Median: \", temperature.quantile(0.5))\n",
        "print(\"Median: \" , temperature.median())\n",
        "print(\"Upper Quartile: \" , temperature.quantile(0.75))\n",
        "print(\"Skewness: \" , temperature.skew())\n",
        "print(\"Kurtosis: \" , temperature.kurt())\n",
        "print(\"Min: \", temperature.min())\n",
        "print(\"Max: \", temperature.max())"
      ],
      "metadata": {
        "id": "1uF2NAOIUxmO",
        "colab": {
          "base_uri": "https://localhost:8080/"
        },
        "outputId": "de467380-06e8-47e4-d8fd-44e88a6b3b20"
      },
      "execution_count": null,
      "outputs": [
        {
          "output_type": "stream",
          "name": "stdout",
          "text": [
            "     outview  temp   wind\n",
            "1      sunny    80   True\n",
            "3      rainy    70  False\n",
            "5      rainy    65   True\n",
            "7      sunny    72  False\n",
            "9      rainy    75  False\n",
            "11  overcast    72   True\n",
            "13     rainy    71   True\n",
            "15     sunny    45   True\n",
            "     outview  temp   wind\n",
            "1      sunny    80   True\n",
            "3      rainy    70  False\n",
            "5      rainy    65   True\n",
            "7      sunny    72  False\n",
            "9      rainy    75  False\n",
            "11  overcast    72   True\n",
            "13     rainy    71   True\n",
            "15     sunny    45   True\n",
            "Mean:  temp    73.4375\n",
            "dtype: float64\n",
            "Standard Deviation:  temp    11.764176\n",
            "dtype: float64\n",
            "Variance:  temp    138.395833\n",
            "dtype: float64\n",
            "Lower Quartile:  temp    68.75\n",
            "Name: 0.25, dtype: float64\n",
            "Median:  temp    72.0\n",
            "Name: 0.5, dtype: float64\n",
            "Median:  temp    72.0\n",
            "dtype: float64\n",
            "Upper Quartile:  temp    80.25\n",
            "Name: 0.75, dtype: float64\n",
            "Skewness:  temp   -0.13398\n",
            "dtype: float64\n",
            "Kurtosis:  temp    2.521107\n",
            "dtype: float64\n",
            "Min:  temp    45\n",
            "dtype: int64\n",
            "Max:  temp    100\n",
            "dtype: int64\n"
          ]
        }
      ]
    },
    {
      "cell_type": "code",
      "source": [
        "df.hist(column=['temp'], bins = 5)\n",
        "\n",
        "df.hist(column='humidity', bins = 5)"
      ],
      "metadata": {
        "id": "svXHopy_Ux0c",
        "colab": {
          "base_uri": "https://localhost:8080/",
          "height": 904
        },
        "outputId": "48aa1483-77e8-4e96-b0b8-265f6773474d"
      },
      "execution_count": null,
      "outputs": [
        {
          "output_type": "execute_result",
          "data": {
            "text/plain": [
              "array([[<Axes: title={'center': 'humidity'}>]], dtype=object)"
            ]
          },
          "metadata": {},
          "execution_count": 72
        },
        {
          "output_type": "display_data",
          "data": {
            "text/plain": [
              "<Figure size 640x480 with 1 Axes>"
            ],
            "image/png": "[encoded data removed]"
          },
          "metadata": {}
        },
        {
          "output_type": "display_data",
          "data": {
            "text/plain": [
              "<Figure size 640x480 with 1 Axes>"
            ],
            "image/png": "[encoded data removed]"
          },
          "metadata": {}
        }
      ]
    },
    {
      "cell_type": "code",
      "source": [
        "humidity = df[['humidity']]\n",
        "print(\"Mean: \" , humidity.mean())\n",
        "print(\"Standard Deviation: \", humidity.std())\n",
        "print(\"Variance: \", humidity.var())\n",
        "print(\"Lower Quartile: \" , humidity.quantile(0.25))\n",
        "print(\"Median: \", humidity.quantile(0.5))\n",
        "print(\"Median: \" , humidity.median())\n",
        "print(\"Upper Quartile: \" , humidity.quantile(0.75))\n",
        "print(\"Skewness: \" , humidity.skew())\n",
        "print(\"Kurtosis: \" , humidity.kurt())\n",
        "print(\"Min: \", humidity.min())\n",
        "print(\"Max: \", humidity.max())"
      ],
      "metadata": {
        "id": "CBYrcZNQVQAT",
        "colab": {
          "base_uri": "https://localhost:8080/"
        },
        "outputId": "b30a75c9-4f3e-4107-ef06-a1f2144d3c4a"
      },
      "execution_count": null,
      "outputs": [
        {
          "output_type": "stream",
          "name": "stdout",
          "text": [
            "Mean:  humidity    80.1875\n",
            "dtype: float64\n",
            "Standard Deviation:  humidity    10.36802\n",
            "dtype: float64\n",
            "Variance:  humidity    107.495833\n",
            "dtype: float64\n",
            "Lower Quartile:  humidity    70.0\n",
            "Name: 0.25, dtype: float64\n",
            "Median:  humidity    80.0\n",
            "Name: 0.5, dtype: float64\n",
            "Median:  humidity    80.0\n",
            "dtype: float64\n",
            "Upper Quartile:  humidity    90.0\n",
            "Name: 0.75, dtype: float64\n",
            "Skewness:  humidity    0.118669\n",
            "dtype: float64\n",
            "Kurtosis:  humidity   -1.533119\n",
            "dtype: float64\n",
            "Min:  humidity    65\n",
            "dtype: int64\n",
            "Max:  humidity    96\n",
            "dtype: int64\n"
          ]
        }
      ]
    },
    {
      "cell_type": "code",
      "source": [
        "list1 = [[1,0], [1,1], [2,2], [2,3], [2,3],\n",
        "         [2,4], [3,4], [3,5], [4,6], [5,7]]\n",
        "print(list1)\n",
        "#%%\n",
        "df_list1 = pd.DataFrame(list1, columns = ['x','y'])\n",
        "print(df_list1)\n",
        "\n",
        "#%%\n",
        "df_list1.hist(column = ['x'], bins = 5)\n",
        "\n",
        "#%%\n",
        "print('Skew: ', df_list1[['x']].skew())\n",
        "\n",
        "#%%\n",
        "df_list1.hist(column = ['y'], bins = 8)\n",
        "\n",
        "#%%\n",
        "print('Skew: ', df_list1['y'].skew())\n",
        "\n",
        "#%%\n",
        "print('Kurt - X: ', df_list1[['x']].kurt())\n",
        "print('Kurt - Y: ', df_list1[['y']].kurt())"
      ],
      "metadata": {
        "id": "8FU2uLuFVZtr",
        "colab": {
          "base_uri": "https://localhost:8080/",
          "height": 1000
        },
        "outputId": "3e238266-66e3-4b38-9ff5-257365c2d2e1"
      },
      "execution_count": null,
      "outputs": [
        {
          "output_type": "stream",
          "name": "stdout",
          "text": [
            "[[1, 0], [1, 1], [2, 2], [2, 3], [2, 3], [2, 4], [3, 4], [3, 5], [4, 6], [5, 7]]\n",
            "   x  y\n",
            "0  1  0\n",
            "1  1  1\n",
            "2  2  2\n",
            "3  2  3\n",
            "4  2  3\n",
            "5  2  4\n",
            "6  3  4\n",
            "7  3  5\n",
            "8  4  6\n",
            "9  5  7\n",
            "Skew:  x    0.815005\n",
            "dtype: float64\n",
            "Skew:  0.0\n",
            "Kurt - X:  x    0.25378\n",
            "dtype: float64\n",
            "Kurt - Y:  y   -0.53564\n",
            "dtype: float64\n"
          ]
        },
        {
          "output_type": "display_data",
          "data": {
            "text/plain": [
              "<Figure size 640x480 with 1 Axes>"
            ],
            "image/png": "[encoded data removed]"
          },
          "metadata": {}
        },
        {
          "output_type": "display_data",
          "data": {
            "text/plain": [
              "<Figure size 640x480 with 1 Axes>"
            ],
            "image/png": "[encoded data removed]"
          },
          "metadata": {}
        }
      ]
    },
    {
      "cell_type": "code",
      "source": [
        "#%%\n",
        "\n",
        "df_list1.plot.scatter(x = \"x\", y = \"y\")\n",
        "\n",
        "#%%\n",
        "df_list1.boxplot(column = ['x', 'y'])"
      ],
      "metadata": {
        "colab": {
          "base_uri": "https://localhost:8080/",
          "height": 466
        },
        "id": "noZiKviFqLEu",
        "outputId": "393df685-b0c7-4cbc-eb3d-c8af0f46ef97"
      },
      "execution_count": 90,
      "outputs": [
        {
          "output_type": "execute_result",
          "data": {
            "text/plain": [
              "<Axes: xlabel='x', ylabel='y'>"
            ]
          },
          "metadata": {},
          "execution_count": 90
        },
        {
          "output_type": "display_data",
          "data": {
            "text/plain": [
              "<Figure size 640x480 with 1 Axes>"
            ],
            "image/png": "[encoded data removed]"
          },
          "metadata": {}
        }
      ]
    }
  ]
}